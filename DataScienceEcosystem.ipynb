{
 "cells": [
  {
   "cell_type": "markdown",
   "id": "e43e2112",
   "metadata": {},
   "source": [
    "<h1>INTRODUCTION TO JUPYTER NOTEBOOKS</h1>"
   ]
  },
  {
   "cell_type": "markdown",
   "id": "928b8155",
   "metadata": {},
   "source": [
    "## Introduction\n",
    "In this notebook, we will explore the tools and languages used in data science, demonstrate some basic arithmetic operations, and present key objectives and author details."
   ]
  },
  {
   "cell_type": "markdown",
   "id": "be6e1948",
   "metadata": {},
   "source": [
    "## Data Science Languages\n",
    "- Python  \n",
    "- R  \n",
    "- SQL  \n",
    "- Julia  \n",
    "- Scala  \n",
    "- Java  \n",
    "- C++  \n",
    "- JavaScript  \n",
    "- SAS  \n",
    "- MATLAB"
   ]
  },
  {
   "cell_type": "markdown",
   "id": "11f51ffb",
   "metadata": {},
   "source": [
    "## Data Science Libraries\n",
    "- Pandas  \n",
    "- NumPy  \n",
    "- Matplotlib  \n",
    "- Seaborn  \n",
    "- Scikit-learn  \n",
    "- TensorFlow  \n",
    "- Keras  \n",
    "- PyTorch  \n",
    "- SciPy  \n",
    "- XGBoost  \n",
    "- LightGBM  \n",
    "- Statsmodels  \n",
    "- OpenCV\n"
   ]
  },
  {
   "cell_type": "markdown",
   "id": "eeb8ae6c",
   "metadata": {},
   "source": [
    "## Data Science Tools\n",
    "\n",
    "| Tool             | Description                            |\n",
    "|------------------|----------------------------------------|\n",
    "| Jupyter Notebook | Interactive coding environment         |\n",
    "| RStudio          | IDE for R                              |\n",
    "| Apache Spark     | Big data processing framework          |\n",
    "| TensorFlow       | Deep learning framework by Google      |\n",
    "| KNIME            | Open-source data analytics platform    |\n",
    "| RapidMiner       | Data science platform for ML workflows |\n",
    "| Google Colab     | Cloud-based Jupyter environment        |\n",
    "| MATLAB           | High-level language for numerical computing |\n"
   ]
  },
  {
   "cell_type": "markdown",
   "id": "6d96b6f7",
   "metadata": {},
   "source": [
    "## Examples of Arithmetic Expressions\n",
    "Below are examples of simple arithmetic operations like addition, multiplication, and division.\n",
    "1. a+b\n",
    "2. a-b\n",
    "3. a*b\n",
    "4. a/b (for float division), a//b (integer division)\n",
    "5. a%b\n",
    "6. a**b (in python for exponential operations)"
   ]
  },
  {
   "cell_type": "code",
   "execution_count": 3,
   "id": "3b610955",
   "metadata": {},
   "outputs": [
    {
     "data": {
      "text/plain": [
       "23"
      ]
     },
     "execution_count": 3,
     "metadata": {},
     "output_type": "execute_result"
    }
   ],
   "source": [
    "# Multiply and add numbers\n",
    "(5 * 4) + 3 #first, multiplication(5*4), then addition with 3 to the result"
   ]
  },
  {
   "cell_type": "code",
   "execution_count": 4,
   "id": "3a2d6753",
   "metadata": {},
   "outputs": [
    {
     "data": {
      "text/plain": [
       "3.3333333333333335"
      ]
     },
     "execution_count": 4,
     "metadata": {},
     "output_type": "execute_result"
    }
   ],
   "source": [
    "# Convert 200 minutes to hours\n",
    "minutes = 200\n",
    "hours = minutes / 60\n",
    "hours"
   ]
  },
  {
   "cell_type": "markdown",
   "id": "e835c9ff",
   "metadata": {},
   "source": [
    "## Objectives\n",
    "- List popular languages used in data science  \n",
    "- List commonly used libraries and tools  \n",
    "- Demonstrate simple arithmetic expressions  \n",
    "- Learn to use markdown cells in Jupyter Notebook  \n",
    "- Share a notebook using GitHub"
   ]
  },
  {
   "cell_type": "markdown",
   "id": "7f6bf125",
   "metadata": {},
   "source": [
    "<p><b>Author: </b>Paripally Abhishek</p>"
   ]
  },
  {
   "cell_type": "code",
   "execution_count": null,
   "id": "942aa300",
   "metadata": {},
   "outputs": [],
   "source": []
  }
 ],
 "metadata": {
  "kernelspec": {
   "display_name": "Python 3 (ipykernel)",
   "language": "python",
   "name": "python3"
  },
  "language_info": {
   "codemirror_mode": {
    "name": "ipython",
    "version": 3
   },
   "file_extension": ".py",
   "mimetype": "text/x-python",
   "name": "python",
   "nbconvert_exporter": "python",
   "pygments_lexer": "ipython3",
   "version": "3.11.5"
  }
 },
 "nbformat": 4,
 "nbformat_minor": 5
}
